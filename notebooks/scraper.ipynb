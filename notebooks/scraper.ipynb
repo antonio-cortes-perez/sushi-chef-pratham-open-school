{
 "cells": [
  {
   "cell_type": "code",
   "execution_count": 100,
   "metadata": {},
   "outputs": [],
   "source": [
    "from bs4 import BeautifulSoup\n",
    "from html2text import html2text\n",
    "import requests\n",
    "import urllib\n",
    "import logging\n",
    "\n",
    "# from le_utils.constants import content_kinds\n",
    "from le_utils.constants import licenses\n",
    "from ricecooker.classes import nodes, files\n",
    "from ricecooker.classes.nodes import ChannelNode, HTML5AppNode, TopicNode, VideoNode, DocumentNode, ExerciseNode\n",
    "from ricecooker.commands import uploadchannel\n",
    "from ricecooker.exceptions import UnknownContentKindError, UnknownFileTypeError, raise_for_invalid_channel\n",
    "from ricecooker.utils.caching import CacheForeverHeuristic, FileCache, CacheControlAdapter\n",
    "from ricecooker.config import LOGGER"
   ]
  },
  {
   "cell_type": "code",
   "execution_count": 101,
   "metadata": {},
   "outputs": [],
   "source": [
    "LOGGER.setLevel(logging.INFO)\n",
    "\n",
    "sess = requests.Session()\n",
    "cache = FileCache('.webcache')\n",
    "basic_adapter = CacheControlAdapter(cache=cache)\n",
    "forever_adapter= CacheControlAdapter(heuristic=CacheForeverHeuristic(), cache=cache)\n",
    "\n",
    "sess.mount('http://', basic_adapter)\n",
    "sess.mount('https://', basic_adapter)\n",
    "sess.mount('http://www.prathamopenschool.org', forever_adapter)\n",
    "sess.mount('https://www.prathamopenschool.org', forever_adapter)\n"
   ]
  },
  {
   "cell_type": "code",
   "execution_count": 102,
   "metadata": {},
   "outputs": [],
   "source": [
    "# Get list of main topics\n",
    "BASE_URL = 'http://www.prathamopenschool.org'\n",
    "LANGUAGE = 'hn'\n",
    "\n",
    "def get_absolute_path(path):\n",
    "    return urllib.parse.urljoin(BASE_URL, path)\n",
    "\n",
    "def get_page(path):\n",
    "    url = get_absolute_path(path)\n",
    "    resp = sess.get(url)\n",
    "    return BeautifulSoup(resp.content, 'html.parser')\n",
    "\n",
    "def get_source_id(path):\n",
    "    return path.strip(\"/\").split(\"/\")[-1]\n"
   ]
  },
  {
   "cell_type": "code",
   "execution_count": 103,
   "metadata": {},
   "outputs": [],
   "source": [
    "def get_topics(channel, language):\n",
    "    doc = get_page(language)\n",
    "    menu_row = doc.find('div', {'id': 'menu-row'})\n",
    "    for topic in menu_row.find_all('a'):\n",
    "        if topic['href'] == '#':\n",
    "            continue\n",
    "        title = get_source_id(topic['href'])\n",
    "        source_id = topic.get_text()\n",
    "        node = TopicNode(title=title, source_id=source_id)\n",
    "        channel.add_child(node)"
   ]
  },
  {
   "cell_type": "code",
   "execution_count": 106,
   "metadata": {},
   "outputs": [
    {
     "name": "stderr",
     "output_type": "stream",
     "text": [
      "      Pratham Open School (ChannelNode): 14 descendants\n",
      "         Mathematics (TopicNode): 0 descendants\n",
      "         English (TopicNode): 0 descendants\n",
      "         Health (TopicNode): 0 descendants\n",
      "         Science (TopicNode): 0 descendants\n",
      "         Hospitality (TopicNode): 0 descendants\n",
      "         Construction (TopicNode): 0 descendants\n",
      "         Automobile (TopicNode): 0 descendants\n",
      "         Electric (TopicNode): 0 descendants\n",
      "         Beauty (TopicNode): 0 descendants\n",
      "         Healthcare (TopicNode): 0 descendants\n",
      "         Std8 (TopicNode): 0 descendants\n",
      "         Fun (TopicNode): 0 descendants\n",
      "         Story (TopicNode): 0 descendants\n",
      "         CRS104 (TopicNode): 0 descendants\n"
     ]
    }
   ],
   "source": [
    "def construct_channel(*args, **kwargs):\n",
    "    channel = ChannelNode(\n",
    "        title=\"Pratham Open School\",\n",
    "        source_domain=BASE_URL,\n",
    "        source_id=\"pratham-open-school\",\n",
    "    )\n",
    "    get_topics(channel, LANGUAGE)\n",
    "    return channel\n",
    "LOGGER.addHandler(logging.StreamHandler())\n",
    "construct_channel().print_tree()"
   ]
  },
  {
   "cell_type": "code",
   "execution_count": 41,
   "metadata": {},
   "outputs": [
    {
     "name": "stdout",
     "output_type": "stream",
     "text": [
      "['/hn/Course/Mathematics', '/hn/Course/English', '/hn/Course/Health', '/hn/Course/Science', '/hn/Course/Hospitality', '/hn/Course/Construction', '/hn/Course/Automobile', '/hn/Course/Electric', '/hn/Course/Beauty', '/hn/Course/Healthcare', '/hn/Course/Std8', '/hn/Fun', '/hn/Story', '/hn/gamelist/CRS104']\n"
     ]
    }
   ],
   "source": [
    "print(topics)"
   ]
  },
  {
   "cell_type": "code",
   "execution_count": 48,
   "metadata": {},
   "outputs": [],
   "source": [
    "def get_subtopics(topic):\n",
    "    doc = get_page(topic)\n",
    "    menu_row = doc.find('div', {'id' : 'body-row'}).find('div', {'class' : 'col-md-2'})\n",
    "    subtopics = []\n",
    "    for subtopic in menu_row.find_all('a'):\n",
    "        subtopics.append(subtopic['href'])\n",
    "    return subtopics\n",
    "subtopics = get_subtopics(topics[0])"
   ]
  },
  {
   "cell_type": "code",
   "execution_count": 56,
   "metadata": {},
   "outputs": [],
   "source": [
    "def get_lessons(subtopic):\n",
    "    doc = get_page(subtopic)\n",
    "    menu_row = doc.find('div', {'id' : 'body-row'}).find('div', {'class' : 'col-md-9'})\n",
    "    lessons = []\n",
    "    for lesson in menu_row.find_all('a'):\n",
    "        lessons.append(lesson['href'])\n",
    "    return lessons\n",
    "lessons = get_lessons(subtopics[0])"
   ]
  },
  {
   "cell_type": "code",
   "execution_count": 76,
   "metadata": {},
   "outputs": [
    {
     "name": "stdout",
     "output_type": "stream",
     "text": [
      "[('त्रिभुजों के प्रकार ', '../../CourseContent/Mathematics/Videos/h_triangle_types.mp4'), ('त्रिभुज के मज़ेदार खेल ', '../../CourseContent/Mathematics/Videos/h_triangle_fun.mp4'), ('त्रिभुज और उसके प्रकार ', '../../CourseContent/Mathematics/Read/Hindi/Reading Cards 7 - H.pdf'), ('त्रिभुज 1 ', '../../CourseContent/Mathematics/Read/Hindi/Reading Cards 6 - H.pdf'), ('त्रिभुज 2 ', '../../CourseContent/Mathematics/Read/Hindi/Reading Cards 8 - H.pdf'), ('त्रिभुज बनायें ', '../../CourseContent/Games/Mathematics.zip'), ('तुक्काबाजी क्षेत्रफल - त्रिभुज ', '../../CourseContent/Games/Mathematics.zip')]\n"
     ]
    }
   ],
   "source": [
    "def get_contents(lesson):\n",
    "    doc = get_page(lesson)\n",
    "    menu_row = doc.find('div', {'id' : 'row-exu'})\n",
    "    contents = []\n",
    "    for content in menu_row.find_all('div', {'class':'col-md-3'}):\n",
    "        title = content.find('div', {'class' : 'txtline'}).get_text()\n",
    "        link = content.find('a', {'title' : 'Download'})['href']\n",
    "        contents.append((title, link))\n",
    "    return contents\n",
    "print (get_contents(lessons[0]))"
   ]
  }
 ],
 "metadata": {
  "kernelspec": {
   "display_name": "Python 3",
   "language": "python",
   "name": "python3"
  },
  "language_info": {
   "codemirror_mode": {
    "name": "ipython",
    "version": 3
   },
   "file_extension": ".py",
   "mimetype": "text/x-python",
   "name": "python",
   "nbconvert_exporter": "python",
   "pygments_lexer": "ipython3",
   "version": "3.4.3"
  }
 },
 "nbformat": 4,
 "nbformat_minor": 2
}
